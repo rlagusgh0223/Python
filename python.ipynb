{
  "nbformat": 4,
  "nbformat_minor": 0,
  "metadata": {
    "colab": {
      "name": "python",
      "provenance": [],
      "collapsed_sections": [],
      "authorship_tag": "ABX9TyP8J/LYuRj8R6IZqeF6J1G5"
    },
    "kernelspec": {
      "name": "python3",
      "display_name": "Python 3"
    },
    "language_info": {
      "name": "python"
    }
  },
  "cells": [
    {
      "cell_type": "code",
      "metadata": {
        "colab": {
          "base_uri": "https://localhost:8080/"
        },
        "id": "tLMQAPdII7Xo",
        "outputId": "9f264fd5-8540-4476-9b2f-c858cb89ffc2"
      },
      "source": [
        "import numpy as np\n",
        "print(np.cos(np.pi))\n",
        "print(np.e + 1)"
      ],
      "execution_count": 5,
      "outputs": [
        {
          "output_type": "stream",
          "text": [
            "-1.0\n",
            "3.718281828459045\n"
          ],
          "name": "stdout"
        }
      ]
    },
    {
      "cell_type": "code",
      "metadata": {
        "colab": {
          "base_uri": "https://localhost:8080/"
        },
        "id": "wi_dvry0OIWB",
        "outputId": "3979fcc7-2e70-4728-aa43-a211c9d11178"
      },
      "source": [
        "a=3\n",
        "b=-8.4\n",
        "c='K'\n",
        "d='I love you'\n",
        "e=True\n",
        "print(type(a)) #type은 이미 만들어진 변수의 종류를 확인시켜준다\n",
        "print(type(b))\n",
        "print(type(c))\n",
        "print(type(d))\n",
        "print(type(e))"
      ],
      "execution_count": 4,
      "outputs": [
        {
          "output_type": "stream",
          "text": [
            "<class 'int'>\n",
            "<class 'float'>\n",
            "<class 'str'>\n",
            "<class 'str'>\n",
            "<class 'bool'>\n"
          ],
          "name": "stdout"
        }
      ]
    },
    {
      "cell_type": "code",
      "metadata": {
        "colab": {
          "base_uri": "https://localhost:8080/"
        },
        "id": "0o2dOg8Xl5Ob",
        "outputId": "add0dd6b-1693-4cbd-deb8-39e2c1333ac4"
      },
      "source": [
        "import numpy as np\n",
        "s = np.sin(np.pi/3)\n",
        "\n",
        "print(s)\n",
        "\n",
        "print(np.round(3.567, 1)) #3.567을 소수점 둘째 자리에서 반올림\n",
        "\n",
        "print(np.round(decimals=1, a=3.567)) # decimals:소수자릿수, a:숫자를 의미하니까 순서를 바꿔도 그대로 출력\n",
        "\n",
        "v = 3.14\n",
        "print(f'value of v is {v}') #따옴표 앞에 f를 붙여 사용하면 변수의 값을 포함하는 새로운 문자열을 만듬"
      ],
      "execution_count": 11,
      "outputs": [
        {
          "output_type": "stream",
          "text": [
            "0.8660254037844386\n",
            "3.6\n",
            "3.6\n",
            "value of v is 3.14\n"
          ],
          "name": "stdout"
        }
      ]
    },
    {
      "cell_type": "code",
      "metadata": {
        "colab": {
          "base_uri": "https://localhost:8080/"
        },
        "id": "CRn_Q3Kvoet_",
        "outputId": "9e3a2759-a702-4033-ade1-4b873600ad5c"
      },
      "source": [
        "#3.7 고급 데이터 타입\n",
        "vs1 = [1,3,'Hi',8.5]\n",
        "vs2 = []\n",
        "vs2.append(1)\n",
        "vs2.append(3)\n",
        "vs2.append('Hi')\n",
        "vs2.append(8.5)\n",
        "print(vs1)\n",
        "print(vs2)\n",
        "vs2.insert(2,1000) #리스트의 특정 위치에 항목 추가\n",
        "print(vs2)\n",
        "vs1.extend(vs2) #리스트 뒤에 다른 리스트를 덧붙임\n",
        "print(vs1)\n",
        "print()\n",
        "\n",
        "#튜플은 수정할 수 없다(나머지는 리스트와 동일)\n",
        "#대괄호 안쓰거나 소괄호 쓰면 된다. 아니면 리스트에 tuple()함수를 쓰던가\n",
        "tup1 = 3,4,5\n",
        "tup2 = (3,4,5)\n",
        "my_list = [5,8,7]\n",
        "tup3 = tuple(my_list)\n",
        "print(tup1,tup2,tup3)\n",
        "print()\n",
        "\n",
        "#딕셔너리\n",
        "#리스트와 비슷, 항목에 순서가 없고 각 항목에 이름이 붙는다는 차이\n",
        "d1 = {'Title' : 'The Chronicles of Narnia',\n",
        "      'Year' : 1950,\n",
        "      'Author' : 'C. S. Lewis',\n",
        "      'Country' : 'UK',\n",
        "      'Genre' : 'Fantasy'}\n",
        "print(d1['Title'])"
      ],
      "execution_count": 16,
      "outputs": [
        {
          "output_type": "stream",
          "text": [
            "[1, 3, 'Hi', 8.5]\n",
            "[1, 3, 'Hi', 8.5]\n",
            "[1, 3, 1000, 'Hi', 8.5]\n",
            "[1, 3, 'Hi', 8.5, 1, 3, 1000, 'Hi', 8.5]\n",
            "(3, 4, 5) (3, 4, 5) (5, 8, 7)\n",
            "The Chronicles of Narnia\n"
          ],
          "name": "stdout"
        }
      ]
    }
  ]
}