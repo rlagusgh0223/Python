{
  "nbformat": 4,
  "nbformat_minor": 0,
  "metadata": {
    "colab": {
      "name": "python",
      "provenance": [],
      "collapsed_sections": [],
      "authorship_tag": "ABX9TyOJembBfHz2sRoUOYC0c1kp"
    },
    "kernelspec": {
      "name": "python3",
      "display_name": "Python 3"
    },
    "language_info": {
      "name": "python"
    }
  },
  "cells": [
    {
      "cell_type": "code",
      "metadata": {
        "colab": {
          "base_uri": "https://localhost:8080/"
        },
        "id": "tLMQAPdII7Xo",
        "outputId": "9f264fd5-8540-4476-9b2f-c858cb89ffc2"
      },
      "source": [
        "import numpy as np\n",
        "print(np.cos(np.pi))\n",
        "print(np.e + 1)"
      ],
      "execution_count": 5,
      "outputs": [
        {
          "output_type": "stream",
          "text": [
            "-1.0\n",
            "3.718281828459045\n"
          ],
          "name": "stdout"
        }
      ]
    },
    {
      "cell_type": "code",
      "metadata": {
        "colab": {
          "base_uri": "https://localhost:8080/"
        },
        "id": "wi_dvry0OIWB",
        "outputId": "3979fcc7-2e70-4728-aa43-a211c9d11178"
      },
      "source": [
        "a=3\n",
        "b=-8.4\n",
        "c='K'\n",
        "d='I love you'\n",
        "e=True\n",
        "print(type(a)) #type은 이미 만들어진 변수의 종류를 확인시켜준다\n",
        "print(type(b))\n",
        "print(type(c))\n",
        "print(type(d))\n",
        "print(type(e))"
      ],
      "execution_count": 4,
      "outputs": [
        {
          "output_type": "stream",
          "text": [
            "<class 'int'>\n",
            "<class 'float'>\n",
            "<class 'str'>\n",
            "<class 'str'>\n",
            "<class 'bool'>\n"
          ],
          "name": "stdout"
        }
      ]
    },
    {
      "cell_type": "code",
      "metadata": {
        "colab": {
          "base_uri": "https://localhost:8080/"
        },
        "id": "0o2dOg8Xl5Ob",
        "outputId": "add0dd6b-1693-4cbd-deb8-39e2c1333ac4"
      },
      "source": [
        "import numpy as np\n",
        "s = np.sin(np.pi/3)\n",
        "\n",
        "print(s)\n",
        "\n",
        "print(np.round(3.567, 1)) #3.567을 소수점 둘째 자리에서 반올림\n",
        "\n",
        "print(np.round(decimals=1, a=3.567)) # decimals:소수자릿수, a:숫자를 의미하니까 순서를 바꿔도 그대로 출력\n",
        "\n",
        "v = 3.14\n",
        "print(f'value of v is {v}') #따옴표 앞에 f를 붙여 사용하면 변수의 값을 포함하는 새로운 문자열을 만듬"
      ],
      "execution_count": 11,
      "outputs": [
        {
          "output_type": "stream",
          "text": [
            "0.8660254037844386\n",
            "3.6\n",
            "3.6\n",
            "value of v is 3.14\n"
          ],
          "name": "stdout"
        }
      ]
    },
    {
      "cell_type": "code",
      "metadata": {
        "colab": {
          "base_uri": "https://localhost:8080/"
        },
        "id": "CRn_Q3Kvoet_",
        "outputId": "9e3a2759-a702-4033-ade1-4b873600ad5c"
      },
      "source": [
        "#3.7 고급 데이터 타입\n",
        "vs1 = [1,3,'Hi',8.5]\n",
        "vs2 = []\n",
        "vs2.append(1)\n",
        "vs2.append(3)\n",
        "vs2.append('Hi')\n",
        "vs2.append(8.5)\n",
        "print(vs1)\n",
        "print(vs2)\n",
        "vs2.insert(2,1000) #리스트의 특정 위치에 항목 추가\n",
        "print(vs2)\n",
        "vs1.extend(vs2) #리스트 뒤에 다른 리스트를 덧붙임\n",
        "print(vs1)\n",
        "print()\n",
        "\n",
        "#튜플은 수정할 수 없다(나머지는 리스트와 동일)\n",
        "#대괄호 안쓰거나 소괄호 쓰면 된다. 아니면 리스트에 tuple()함수를 쓰던가\n",
        "tup1 = 3,4,5\n",
        "tup2 = (3,4,5)\n",
        "my_list = [5,8,7]\n",
        "tup3 = tuple(my_list)\n",
        "print(tup1,tup2,tup3)\n",
        "print()\n",
        "\n",
        "#딕셔너리\n",
        "#리스트와 비슷, 항목에 순서가 없고 각 항목에 이름이 붙는다는 차이\n",
        "d1 = {'Title' : 'The Chronicles of Narnia',\n",
        "      'Year' : 1950,\n",
        "      'Author' : 'C. S. Lewis',\n",
        "      'Country' : 'UK',\n",
        "      'Genre' : 'Fantasy'}\n",
        "print(d1['Title'])"
      ],
      "execution_count": 16,
      "outputs": [
        {
          "output_type": "stream",
          "text": [
            "[1, 3, 'Hi', 8.5]\n",
            "[1, 3, 'Hi', 8.5]\n",
            "[1, 3, 1000, 'Hi', 8.5]\n",
            "[1, 3, 'Hi', 8.5, 1, 3, 1000, 'Hi', 8.5]\n",
            "(3, 4, 5) (3, 4, 5) (5, 8, 7)\n",
            "The Chronicles of Narnia\n"
          ],
          "name": "stdout"
        }
      ]
    },
    {
      "cell_type": "code",
      "metadata": {
        "colab": {
          "base_uri": "https://localhost:8080/"
        },
        "id": "ZioD2ov_9jY3",
        "outputId": "034f0163-c3c8-4abe-c574-14829f0a11ec"
      },
      "source": [
        "import numpy as np\n",
        "n = np.array([3,4,1,2,8,2,4,9])\n",
        "print(n)\n",
        "\n",
        "n = np.array([[3,4,1,2],[8,2,4,9]])\n",
        "print(n)\n",
        "\n",
        "n = np.zeros((3,5))\n",
        "m = np.ones((3,5,2))\n",
        "print(n)\n",
        "print(m)\n",
        "n = np.random.rand(3,5)\n",
        "print(n[1,2])\n",
        "\n",
        "#np.expand_dims 함수\n",
        "n = np.zeros(3)\n",
        "print(n)\n",
        "print(n.shape)\n",
        "n = np.expand_dims(n,1) #1번 차원을 추가\n",
        "print(n)\n",
        "print(n.shape)\n",
        "\n",
        "#reshape함수\n",
        "n = np.array([3,4,1,2,8,2,4,9])\n",
        "m = np.reshape(n,(2,4))\n",
        "print(n)\n",
        "print(m)\n",
        "n.shape\n",
        "m.shape\n"
      ],
      "execution_count": 24,
      "outputs": [
        {
          "output_type": "stream",
          "text": [
            "[3 4 1 2 8 2 4 9]\n",
            "[[3 4 1 2]\n",
            " [8 2 4 9]]\n",
            "[[0. 0. 0. 0. 0.]\n",
            " [0. 0. 0. 0. 0.]\n",
            " [0. 0. 0. 0. 0.]]\n",
            "[[[1. 1.]\n",
            "  [1. 1.]\n",
            "  [1. 1.]\n",
            "  [1. 1.]\n",
            "  [1. 1.]]\n",
            "\n",
            " [[1. 1.]\n",
            "  [1. 1.]\n",
            "  [1. 1.]\n",
            "  [1. 1.]\n",
            "  [1. 1.]]\n",
            "\n",
            " [[1. 1.]\n",
            "  [1. 1.]\n",
            "  [1. 1.]\n",
            "  [1. 1.]\n",
            "  [1. 1.]]]\n",
            "0.26840359932295077\n",
            "[0. 0. 0.]\n",
            "(3,)\n",
            "[[0.]\n",
            " [0.]\n",
            " [0.]]\n",
            "(3, 1)\n",
            "[3 4 1 2 8 2 4 9]\n",
            "[[3 4 1 2]\n",
            " [8 2 4 9]]\n"
          ],
          "name": "stdout"
        },
        {
          "output_type": "execute_result",
          "data": {
            "text/plain": [
              "(2, 4)"
            ]
          },
          "metadata": {
            "tags": []
          },
          "execution_count": 24
        }
      ]
    },
    {
      "cell_type": "code",
      "metadata": {
        "colab": {
          "base_uri": "https://localhost:8080/"
        },
        "id": "4Rv0sl7kE_wE",
        "outputId": "3fe4e650-4185-47eb-f42b-406f2a77a831"
      },
      "source": [
        "def add(v1,v2):\n",
        "  #sum = v1 + v2\n",
        "  #return sum\n",
        "  #위와 동일 결과\n",
        "  return v1 + v2\n",
        "\n",
        "def add1(v1, v2=5):\n",
        "  return v1 + v2\n",
        "\n",
        "v = add(3,6)\n",
        "v1 = add1(3)\n",
        "print(v)\n",
        "print(v1)\n",
        "\n",
        "def change_var(arr):\n",
        "  arr[0,0] = 999\n",
        "\n",
        "d = np.random.rand(5,4)\n",
        "print(f'함수호출 전 : {d[0,0]}')\n",
        "change_var(d)\n",
        "print(f'함수호출 후 : {d[0,0]}')\n",
        "\n",
        "def change_var1(arr):\n",
        "  arr = 999\n",
        "\n",
        "d = np.random.rand(5,4)\n",
        "print(f'before : {d[0,0]}')\n",
        "change_var1(d)\n",
        "print(f'after : {d[0,0]}') #여기서는 arr이 새로운 숫자 객체를 가리키니까 차이가 없다"
      ],
      "execution_count": 31,
      "outputs": [
        {
          "output_type": "stream",
          "text": [
            "9\n",
            "8\n",
            "함수호출 전 : 0.01589146579426237\n",
            "함수호출 후 : 999.0\n",
            "before : 0.8121726343663578\n",
            "after : 0.8121726343663578\n"
          ],
          "name": "stdout"
        }
      ]
    }
  ]
}